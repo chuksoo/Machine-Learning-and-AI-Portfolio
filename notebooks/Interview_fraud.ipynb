{
 "cells": [
  {
   "cell_type": "markdown",
   "id": "acde04c1-840b-46cf-bfbc-8b721a0785d9",
   "metadata": {},
   "source": [
    "### Make a prediction for the amount and predict the fraud use "
   ]
  },
  {
   "cell_type": "code",
   "execution_count": 1,
   "id": "34acf6a1-a532-49b4-9b1e-54fec71edbb9",
   "metadata": {},
   "outputs": [
    {
     "name": "stdout",
     "output_type": "stream",
     "text": [
      "Project libraries has been successfully been imported!\n"
     ]
    },
    {
     "name": "stderr",
     "output_type": "stream",
     "text": [
      "C:\\Users\\hotty\\anaconda3\\lib\\site-packages\\xgboost\\compat.py:31: FutureWarning: pandas.Int64Index is deprecated and will be removed from pandas in a future version. Use pandas.Index with the appropriate dtype instead.\n",
      "  from pandas import MultiIndex, Int64Index\n"
     ]
    }
   ],
   "source": [
    "import pandas as pd\n",
    "import numpy as np\n",
    "\n",
    "# matplotlib for visualization\n",
    "import matplotlib.pyplot as plt\n",
    "%matplotlib inline\n",
    "\n",
    "# seaborn for statistical data visualization\n",
    "import seaborn as sns\n",
    "\n",
    "# import machine learning models\n",
    "from sklearn.linear_model import LinearRegression # import linear regression algorithm\n",
    "from sklearn.ensemble import RandomForestRegressor # import random forest algorithm\n",
    "from catboost import CatBoostRegressor, Pool # import catboost regressor\n",
    "from lightgbm import LGBMRegressor # import lightgbm regressor\n",
    "from xgboost import XGBRegressor # import xgboost regressor\n",
    "from sklearn.neighbors import KNeighborsRegressor # import kneighbor regression\n",
    "\n",
    "# import metric to measure quality of model\n",
    "from sklearn.metrics import mean_squared_error\n",
    "\n",
    "from sklearn.ensemble import RandomForestClassifier\n",
    "from sklearn.model_selection import train_test_split, GridSearchCV\n",
    "\n",
    "# modules for data preprocessing and pipelines \n",
    "from sklearn.feature_extraction.text import _VectorizerMixin\n",
    "from sklearn.feature_selection._base import SelectorMixin\n",
    "from sklearn.pipeline import Pipeline\n",
    "from sklearn.compose import ColumnTransformer\n",
    "from sklearn.impute import KNNImputer, SimpleImputer\n",
    "from sklearn.preprocessing import StandardScaler, OneHotEncoder, OrdinalEncoder\n",
    "from imblearn.datasets import make_imbalance\n",
    "from imblearn.over_sampling import SMOTE, SMOTENC\n",
    "pd.options.mode.chained_assignment = None # to avoid SettingWithCopyWarning after scaling\n",
    "\n",
    "# remove warnings\n",
    "import warnings\n",
    "warnings.filterwarnings('ignore')\n",
    "\n",
    "print('Project libraries has been successfully been imported!')"
   ]
  },
  {
   "cell_type": "code",
   "execution_count": 2,
   "id": "e2075a80-007a-4996-899b-9a9fb952902c",
   "metadata": {},
   "outputs": [
    {
     "data": {
      "text/html": [
       "<div>\n",
       "<style scoped>\n",
       "    .dataframe tbody tr th:only-of-type {\n",
       "        vertical-align: middle;\n",
       "    }\n",
       "\n",
       "    .dataframe tbody tr th {\n",
       "        vertical-align: top;\n",
       "    }\n",
       "\n",
       "    .dataframe thead th {\n",
       "        text-align: right;\n",
       "    }\n",
       "</style>\n",
       "<table border=\"1\" class=\"dataframe\">\n",
       "  <thead>\n",
       "    <tr style=\"text-align: right;\">\n",
       "      <th></th>\n",
       "      <th>step</th>\n",
       "      <th>type</th>\n",
       "      <th>amount</th>\n",
       "      <th>nameOrig</th>\n",
       "      <th>oldbalanceOrg</th>\n",
       "      <th>newbalanceOrig</th>\n",
       "      <th>nameDest</th>\n",
       "      <th>oldbalanceDest</th>\n",
       "      <th>newbalanceDest</th>\n",
       "      <th>isFraud</th>\n",
       "      <th>isFlaggedFraud</th>\n",
       "    </tr>\n",
       "  </thead>\n",
       "  <tbody>\n",
       "    <tr>\n",
       "      <th>0</th>\n",
       "      <td>429</td>\n",
       "      <td>TRANSFER</td>\n",
       "      <td>2480757.90</td>\n",
       "      <td>C1150759357</td>\n",
       "      <td>0.00</td>\n",
       "      <td>0.00</td>\n",
       "      <td>C726473569</td>\n",
       "      <td>2624300.06</td>\n",
       "      <td>5105057.96</td>\n",
       "      <td>0</td>\n",
       "      <td>0</td>\n",
       "    </tr>\n",
       "    <tr>\n",
       "      <th>1</th>\n",
       "      <td>688</td>\n",
       "      <td>CASH_IN</td>\n",
       "      <td>376427.54</td>\n",
       "      <td>C328151886</td>\n",
       "      <td>5788301.18</td>\n",
       "      <td>6164728.72</td>\n",
       "      <td>C2098160906</td>\n",
       "      <td>447879.01</td>\n",
       "      <td>71451.47</td>\n",
       "      <td>0</td>\n",
       "      <td>0</td>\n",
       "    </tr>\n",
       "    <tr>\n",
       "      <th>2</th>\n",
       "      <td>226</td>\n",
       "      <td>DEBIT</td>\n",
       "      <td>3767.20</td>\n",
       "      <td>C1961446946</td>\n",
       "      <td>8020.21</td>\n",
       "      <td>4253.01</td>\n",
       "      <td>C1902968473</td>\n",
       "      <td>65244.29</td>\n",
       "      <td>69011.49</td>\n",
       "      <td>0</td>\n",
       "      <td>0</td>\n",
       "    </tr>\n",
       "    <tr>\n",
       "      <th>3</th>\n",
       "      <td>353</td>\n",
       "      <td>CASH_IN</td>\n",
       "      <td>82487.68</td>\n",
       "      <td>C1901396827</td>\n",
       "      <td>1827251.19</td>\n",
       "      <td>1909738.87</td>\n",
       "      <td>C1154031774</td>\n",
       "      <td>87935.41</td>\n",
       "      <td>5447.74</td>\n",
       "      <td>0</td>\n",
       "      <td>0</td>\n",
       "    </tr>\n",
       "    <tr>\n",
       "      <th>4</th>\n",
       "      <td>140</td>\n",
       "      <td>CASH_IN</td>\n",
       "      <td>50286.46</td>\n",
       "      <td>C1323292589</td>\n",
       "      <td>107512.00</td>\n",
       "      <td>157798.46</td>\n",
       "      <td>C78095483</td>\n",
       "      <td>158695.46</td>\n",
       "      <td>108409.00</td>\n",
       "      <td>0</td>\n",
       "      <td>0</td>\n",
       "    </tr>\n",
       "  </tbody>\n",
       "</table>\n",
       "</div>"
      ],
      "text/plain": [
       "   step      type      amount     nameOrig  oldbalanceOrg  newbalanceOrig  \\\n",
       "0   429  TRANSFER  2480757.90  C1150759357           0.00            0.00   \n",
       "1   688   CASH_IN   376427.54   C328151886     5788301.18      6164728.72   \n",
       "2   226     DEBIT     3767.20  C1961446946        8020.21         4253.01   \n",
       "3   353   CASH_IN    82487.68  C1901396827     1827251.19      1909738.87   \n",
       "4   140   CASH_IN    50286.46  C1323292589      107512.00       157798.46   \n",
       "\n",
       "      nameDest  oldbalanceDest  newbalanceDest  isFraud  isFlaggedFraud  \n",
       "0   C726473569      2624300.06      5105057.96        0               0  \n",
       "1  C2098160906       447879.01        71451.47        0               0  \n",
       "2  C1902968473        65244.29        69011.49        0               0  \n",
       "3  C1154031774        87935.41         5447.74        0               0  \n",
       "4    C78095483       158695.46       108409.00        0               0  "
      ]
     },
     "execution_count": 2,
     "metadata": {},
     "output_type": "execute_result"
    }
   ],
   "source": [
    "# read the dataset\n",
    "interview_fraud_df = pd.read_excel('C:/Users/hotty/Documents/Personal Projects/Machine Learning Projects/Machine-Learning-and-AI-Portfolio/data/raw/interview_fraud.xlsx').drop(['Unnamed: 0'],axis=1)\n",
    "interview_fraud_df.head()"
   ]
  },
  {
   "cell_type": "markdown",
   "id": "b789b39c-0527-46e7-9773-a42915d0da90",
   "metadata": {},
   "source": [
    "### Data Exploration"
   ]
  },
  {
   "cell_type": "code",
   "execution_count": 3,
   "id": "8241a44d-7644-4ea6-aea5-d5642a563490",
   "metadata": {},
   "outputs": [
    {
     "data": {
      "text/html": [
       "<div>\n",
       "<style scoped>\n",
       "    .dataframe tbody tr th:only-of-type {\n",
       "        vertical-align: middle;\n",
       "    }\n",
       "\n",
       "    .dataframe tbody tr th {\n",
       "        vertical-align: top;\n",
       "    }\n",
       "\n",
       "    .dataframe thead th {\n",
       "        text-align: right;\n",
       "    }\n",
       "</style>\n",
       "<table border=\"1\" class=\"dataframe\">\n",
       "  <thead>\n",
       "    <tr style=\"text-align: right;\">\n",
       "      <th></th>\n",
       "      <th>step</th>\n",
       "      <th>amount</th>\n",
       "      <th>oldbalanceOrg</th>\n",
       "      <th>newbalanceOrig</th>\n",
       "      <th>oldbalanceDest</th>\n",
       "      <th>newbalanceDest</th>\n",
       "      <th>isFraud</th>\n",
       "      <th>isFlaggedFraud</th>\n",
       "    </tr>\n",
       "  </thead>\n",
       "  <tbody>\n",
       "    <tr>\n",
       "      <th>count</th>\n",
       "      <td>100000.000000</td>\n",
       "      <td>1.000000e+05</td>\n",
       "      <td>1.000000e+05</td>\n",
       "      <td>1.000000e+05</td>\n",
       "      <td>1.000000e+05</td>\n",
       "      <td>1.000000e+05</td>\n",
       "      <td>100000.000000</td>\n",
       "      <td>100000.0</td>\n",
       "    </tr>\n",
       "    <tr>\n",
       "      <th>mean</th>\n",
       "      <td>242.871670</td>\n",
       "      <td>1.807562e+05</td>\n",
       "      <td>8.454302e+05</td>\n",
       "      <td>8.665361e+05</td>\n",
       "      <td>1.110371e+06</td>\n",
       "      <td>1.235787e+06</td>\n",
       "      <td>0.001370</td>\n",
       "      <td>0.0</td>\n",
       "    </tr>\n",
       "    <tr>\n",
       "      <th>std</th>\n",
       "      <td>141.854832</td>\n",
       "      <td>6.324286e+05</td>\n",
       "      <td>2.904691e+06</td>\n",
       "      <td>2.939698e+06</td>\n",
       "      <td>3.463508e+06</td>\n",
       "      <td>3.785278e+06</td>\n",
       "      <td>0.036988</td>\n",
       "      <td>0.0</td>\n",
       "    </tr>\n",
       "    <tr>\n",
       "      <th>min</th>\n",
       "      <td>1.000000</td>\n",
       "      <td>1.600000e+00</td>\n",
       "      <td>0.000000e+00</td>\n",
       "      <td>0.000000e+00</td>\n",
       "      <td>0.000000e+00</td>\n",
       "      <td>0.000000e+00</td>\n",
       "      <td>0.000000</td>\n",
       "      <td>0.0</td>\n",
       "    </tr>\n",
       "    <tr>\n",
       "      <th>25%</th>\n",
       "      <td>155.000000</td>\n",
       "      <td>1.336421e+04</td>\n",
       "      <td>0.000000e+00</td>\n",
       "      <td>0.000000e+00</td>\n",
       "      <td>0.000000e+00</td>\n",
       "      <td>0.000000e+00</td>\n",
       "      <td>0.000000</td>\n",
       "      <td>0.0</td>\n",
       "    </tr>\n",
       "    <tr>\n",
       "      <th>50%</th>\n",
       "      <td>237.000000</td>\n",
       "      <td>7.460686e+04</td>\n",
       "      <td>1.395950e+04</td>\n",
       "      <td>0.000000e+00</td>\n",
       "      <td>1.327902e+05</td>\n",
       "      <td>2.134465e+05</td>\n",
       "      <td>0.000000</td>\n",
       "      <td>0.0</td>\n",
       "    </tr>\n",
       "    <tr>\n",
       "      <th>75%</th>\n",
       "      <td>333.000000</td>\n",
       "      <td>2.083655e+05</td>\n",
       "      <td>1.078608e+05</td>\n",
       "      <td>1.453424e+05</td>\n",
       "      <td>9.452561e+05</td>\n",
       "      <td>1.108740e+06</td>\n",
       "      <td>0.000000</td>\n",
       "      <td>0.0</td>\n",
       "    </tr>\n",
       "    <tr>\n",
       "      <th>max</th>\n",
       "      <td>741.000000</td>\n",
       "      <td>5.680898e+07</td>\n",
       "      <td>3.470769e+07</td>\n",
       "      <td>3.469985e+07</td>\n",
       "      <td>3.215898e+08</td>\n",
       "      <td>3.555534e+08</td>\n",
       "      <td>1.000000</td>\n",
       "      <td>0.0</td>\n",
       "    </tr>\n",
       "  </tbody>\n",
       "</table>\n",
       "</div>"
      ],
      "text/plain": [
       "                step        amount  oldbalanceOrg  newbalanceOrig  \\\n",
       "count  100000.000000  1.000000e+05   1.000000e+05    1.000000e+05   \n",
       "mean      242.871670  1.807562e+05   8.454302e+05    8.665361e+05   \n",
       "std       141.854832  6.324286e+05   2.904691e+06    2.939698e+06   \n",
       "min         1.000000  1.600000e+00   0.000000e+00    0.000000e+00   \n",
       "25%       155.000000  1.336421e+04   0.000000e+00    0.000000e+00   \n",
       "50%       237.000000  7.460686e+04   1.395950e+04    0.000000e+00   \n",
       "75%       333.000000  2.083655e+05   1.078608e+05    1.453424e+05   \n",
       "max       741.000000  5.680898e+07   3.470769e+07    3.469985e+07   \n",
       "\n",
       "       oldbalanceDest  newbalanceDest        isFraud  isFlaggedFraud  \n",
       "count    1.000000e+05    1.000000e+05  100000.000000        100000.0  \n",
       "mean     1.110371e+06    1.235787e+06       0.001370             0.0  \n",
       "std      3.463508e+06    3.785278e+06       0.036988             0.0  \n",
       "min      0.000000e+00    0.000000e+00       0.000000             0.0  \n",
       "25%      0.000000e+00    0.000000e+00       0.000000             0.0  \n",
       "50%      1.327902e+05    2.134465e+05       0.000000             0.0  \n",
       "75%      9.452561e+05    1.108740e+06       0.000000             0.0  \n",
       "max      3.215898e+08    3.555534e+08       1.000000             0.0  "
      ]
     },
     "execution_count": 3,
     "metadata": {},
     "output_type": "execute_result"
    }
   ],
   "source": [
    "# describe the data\n",
    "interview_fraud_df.describe()"
   ]
  },
  {
   "cell_type": "code",
   "execution_count": 4,
   "id": "f1ae28d8-c859-4495-aa4d-60fc7edc2fb5",
   "metadata": {},
   "outputs": [
    {
     "name": "stdout",
     "output_type": "stream",
     "text": [
      "<class 'pandas.core.frame.DataFrame'>\n",
      "RangeIndex: 100000 entries, 0 to 99999\n",
      "Data columns (total 11 columns):\n",
      " #   Column          Non-Null Count   Dtype  \n",
      "---  ------          --------------   -----  \n",
      " 0   step            100000 non-null  int64  \n",
      " 1   type            100000 non-null  object \n",
      " 2   amount          100000 non-null  float64\n",
      " 3   nameOrig        100000 non-null  object \n",
      " 4   oldbalanceOrg   100000 non-null  float64\n",
      " 5   newbalanceOrig  100000 non-null  float64\n",
      " 6   nameDest        100000 non-null  object \n",
      " 7   oldbalanceDest  100000 non-null  float64\n",
      " 8   newbalanceDest  100000 non-null  float64\n",
      " 9   isFraud         100000 non-null  int64  \n",
      " 10  isFlaggedFraud  100000 non-null  int64  \n",
      "dtypes: float64(5), int64(3), object(3)\n",
      "memory usage: 8.4+ MB\n"
     ]
    }
   ],
   "source": [
    "# check information about the data\n",
    "interview_fraud_df.info()"
   ]
  },
  {
   "cell_type": "code",
   "execution_count": 5,
   "id": "ec379e0c-41e3-4e37-81a9-24b884e8b7b8",
   "metadata": {},
   "outputs": [
    {
     "data": {
      "text/html": [
       "<div>\n",
       "<style scoped>\n",
       "    .dataframe tbody tr th:only-of-type {\n",
       "        vertical-align: middle;\n",
       "    }\n",
       "\n",
       "    .dataframe tbody tr th {\n",
       "        vertical-align: top;\n",
       "    }\n",
       "\n",
       "    .dataframe thead th {\n",
       "        text-align: right;\n",
       "    }\n",
       "</style>\n",
       "<table border=\"1\" class=\"dataframe\">\n",
       "  <thead>\n",
       "    <tr style=\"text-align: right;\">\n",
       "      <th></th>\n",
       "      <th>type</th>\n",
       "      <th>unique count</th>\n",
       "      <th>percentage split (%)</th>\n",
       "    </tr>\n",
       "  </thead>\n",
       "  <tbody>\n",
       "    <tr>\n",
       "      <th>0</th>\n",
       "      <td>CASH_OUT</td>\n",
       "      <td>35250</td>\n",
       "      <td>35.25</td>\n",
       "    </tr>\n",
       "    <tr>\n",
       "      <th>1</th>\n",
       "      <td>PAYMENT</td>\n",
       "      <td>33765</td>\n",
       "      <td>33.77</td>\n",
       "    </tr>\n",
       "    <tr>\n",
       "      <th>2</th>\n",
       "      <td>CASH_IN</td>\n",
       "      <td>21999</td>\n",
       "      <td>22.00</td>\n",
       "    </tr>\n",
       "    <tr>\n",
       "      <th>3</th>\n",
       "      <td>TRANSFER</td>\n",
       "      <td>8362</td>\n",
       "      <td>8.36</td>\n",
       "    </tr>\n",
       "    <tr>\n",
       "      <th>4</th>\n",
       "      <td>DEBIT</td>\n",
       "      <td>624</td>\n",
       "      <td>0.62</td>\n",
       "    </tr>\n",
       "  </tbody>\n",
       "</table>\n",
       "</div>"
      ],
      "text/plain": [
       "       type  unique count percentage split (%)\n",
       "0  CASH_OUT         35250                35.25\n",
       "1   PAYMENT         33765                33.77\n",
       "2   CASH_IN         21999                22.00\n",
       "3  TRANSFER          8362                 8.36\n",
       "4     DEBIT           624                 0.62"
      ]
     },
     "execution_count": 5,
     "metadata": {},
     "output_type": "execute_result"
    }
   ],
   "source": [
    "# find count of unique payment type\n",
    "unique_type_percent = (interview_fraud_df['type'].value_counts() / interview_fraud_df['type'].value_counts().sum() * 100).tolist()   \n",
    "\n",
    "# unique type\n",
    "unique_type = interview_fraud_df['type'].value_counts().reset_index().rename(columns={'index': 'type', 'type': 'unique count'})\n",
    "unique_type['percentage split (%)'] = ['{:.2f}'.format(x) for x in unique_type_percent]\n",
    "unique_type"
   ]
  },
  {
   "cell_type": "code",
   "execution_count": 6,
   "id": "e6628173-105e-425b-bd31-01d83225a82e",
   "metadata": {},
   "outputs": [
    {
     "data": {
      "text/html": [
       "<div>\n",
       "<style scoped>\n",
       "    .dataframe tbody tr th:only-of-type {\n",
       "        vertical-align: middle;\n",
       "    }\n",
       "\n",
       "    .dataframe tbody tr th {\n",
       "        vertical-align: top;\n",
       "    }\n",
       "\n",
       "    .dataframe thead th {\n",
       "        text-align: right;\n",
       "    }\n",
       "</style>\n",
       "<table border=\"1\" class=\"dataframe\">\n",
       "  <thead>\n",
       "    <tr style=\"text-align: right;\">\n",
       "      <th></th>\n",
       "      <th>type</th>\n",
       "      <th>amount</th>\n",
       "    </tr>\n",
       "  </thead>\n",
       "  <tbody>\n",
       "    <tr>\n",
       "      <th>0</th>\n",
       "      <td>TRANSFER</td>\n",
       "      <td>7.719746e+09</td>\n",
       "    </tr>\n",
       "    <tr>\n",
       "      <th>1</th>\n",
       "      <td>CASH_OUT</td>\n",
       "      <td>6.203608e+09</td>\n",
       "    </tr>\n",
       "    <tr>\n",
       "      <th>2</th>\n",
       "      <td>CASH_IN</td>\n",
       "      <td>3.709230e+09</td>\n",
       "    </tr>\n",
       "    <tr>\n",
       "      <th>3</th>\n",
       "      <td>PAYMENT</td>\n",
       "      <td>4.393905e+08</td>\n",
       "    </tr>\n",
       "    <tr>\n",
       "      <th>4</th>\n",
       "      <td>DEBIT</td>\n",
       "      <td>3.641137e+06</td>\n",
       "    </tr>\n",
       "  </tbody>\n",
       "</table>\n",
       "</div>"
      ],
      "text/plain": [
       "       type        amount\n",
       "0  TRANSFER  7.719746e+09\n",
       "1  CASH_OUT  6.203608e+09\n",
       "2   CASH_IN  3.709230e+09\n",
       "3   PAYMENT  4.393905e+08\n",
       "4     DEBIT  3.641137e+06"
      ]
     },
     "execution_count": 6,
     "metadata": {},
     "output_type": "execute_result"
    }
   ],
   "source": [
    "# group data by type\n",
    "group_amount = interview_fraud_df.groupby('type').agg({'amount': 'sum'}).sort_values(by = 'amount', ascending = False).reset_index()\n",
    "group_amount"
   ]
  },
  {
   "cell_type": "code",
   "execution_count": 7,
   "id": "8177f09f-4d4b-4598-818c-195fad07a1ae",
   "metadata": {},
   "outputs": [
    {
     "data": {
      "text/plain": [
       "0    100000\n",
       "Name: isFlaggedFraud, dtype: int64"
      ]
     },
     "execution_count": 7,
     "metadata": {},
     "output_type": "execute_result"
    }
   ],
   "source": [
    "# check value count of isFlaggedFraud and isFraud\n",
    "interview_fraud_df['isFlaggedFraud'].value_counts()"
   ]
  },
  {
   "cell_type": "code",
   "execution_count": 8,
   "id": "d3599d80-844c-43ff-b00d-fd635268af1d",
   "metadata": {},
   "outputs": [
    {
     "data": {
      "text/plain": [
       "0    99863\n",
       "1      137\n",
       "Name: isFraud, dtype: int64"
      ]
     },
     "execution_count": 8,
     "metadata": {},
     "output_type": "execute_result"
    }
   ],
   "source": [
    "# check value count of isFraud\n",
    "interview_fraud_df['isFraud'].value_counts()"
   ]
  },
  {
   "cell_type": "markdown",
   "id": "85abdc07-874c-402e-b28a-207dd8da6bfe",
   "metadata": {},
   "source": [
    "We see that the `isFlaggedFraud` feature contains 100000 zeros, so we need to drop that feature. Let's check correlation within features of the data"
   ]
  },
  {
   "cell_type": "code",
   "execution_count": 9,
   "id": "ba6db887-a22a-4cef-9e79-f826227d7305",
   "metadata": {},
   "outputs": [
    {
     "data": {
      "image/png": "[encoded data removed]",
      "text/plain": [
       "<Figure size 1080x720 with 9 Axes>"
      ]
     },
     "metadata": {
      "needs_background": "light"
     },
     "output_type": "display_data"
    }
   ],
   "source": [
    "# Plot histogram of parameters\n",
    "interview_fraud_df[['step', 'type', 'amount', 'nameOrig', 'oldbalanceOrg', 'newbalanceOrig',\n",
    "       'nameDest', 'oldbalanceDest', 'newbalanceDest', 'isFraud']].hist(bins=30, figsize=(15, 10))\n",
    "plt.suptitle('Histogram of selected parameters', y=0.95);"
   ]
  },
  {
   "cell_type": "code",
   "execution_count": 10,
   "id": "3c17bb57-c68f-4578-960b-eb81166cb8fc",
   "metadata": {},
   "outputs": [
    {
     "data": {
      "image/png": "[encoded data removed]",
      "text/plain": [
       "<Figure size 576x432 with 2 Axes>"
      ]
     },
     "metadata": {
      "needs_background": "light"
     },
     "output_type": "display_data"
    }
   ],
   "source": [
    "# correlation matrix of features\n",
    "plt.figure(figsize=(8, 6))\n",
    "corrMatrix = interview_fraud_df.corr()\n",
    "sns.heatmap(corrMatrix, annot=True, cmap='coolwarm')\n",
    "plt.title('Correlation Matrix Plot for certain features')\n",
    "plt.show();"
   ]
  },
  {
   "cell_type": "markdown",
   "id": "bdae6599-8045-433c-8489-b1732bfa4701",
   "metadata": {},
   "source": [
    "We can see that there is high correlation between `oldbalanceDest` and `newbalanceDest` and also between `oldbalanceOrig` and `newbalanceOrig`."
   ]
  },
  {
   "cell_type": "markdown",
   "id": "3848310a-7a67-4758-864f-0ccf5a831cb2",
   "metadata": {},
   "source": [
    "### Modeling Process"
   ]
  },
  {
   "cell_type": "code",
   "execution_count": 11,
   "id": "d3f3eb30-b9d3-4ec9-a739-651ed335d6e1",
   "metadata": {},
   "outputs": [],
   "source": [
    "# Extract the features and target variable\n",
    "fraud_df = interview_fraud_df.copy()\n",
    "\n",
    "# drop unimportant features\n",
    "fraud_df = fraud_df.drop(['isFlaggedFraud'], axis=1)\n",
    "fraud_df\n",
    "\n",
    "# create features and target for predicting amount\n",
    "amount_features = fraud_df.drop(['amount'], axis=1)\n",
    "amount_target = fraud_df.amount"
   ]
  },
  {
   "cell_type": "code",
   "execution_count": 12,
   "id": "79479981-63af-4db9-8cac-a419d4e1bb9e",
   "metadata": {},
   "outputs": [
    {
     "data": {
      "text/html": [
       "<div>\n",
       "<style scoped>\n",
       "    .dataframe tbody tr th:only-of-type {\n",
       "        vertical-align: middle;\n",
       "    }\n",
       "\n",
       "    .dataframe tbody tr th {\n",
       "        vertical-align: top;\n",
       "    }\n",
       "\n",
       "    .dataframe thead th {\n",
       "        text-align: right;\n",
       "    }\n",
       "</style>\n",
       "<table border=\"1\" class=\"dataframe\">\n",
       "  <thead>\n",
       "    <tr style=\"text-align: right;\">\n",
       "      <th></th>\n",
       "      <th>step</th>\n",
       "      <th>type</th>\n",
       "      <th>nameOrig</th>\n",
       "      <th>oldbalanceOrg</th>\n",
       "      <th>newbalanceOrig</th>\n",
       "      <th>nameDest</th>\n",
       "      <th>oldbalanceDest</th>\n",
       "      <th>newbalanceDest</th>\n",
       "      <th>isFraud</th>\n",
       "    </tr>\n",
       "  </thead>\n",
       "  <tbody>\n",
       "    <tr>\n",
       "      <th>0</th>\n",
       "      <td>429</td>\n",
       "      <td>TRANSFER</td>\n",
       "      <td>C1150759357</td>\n",
       "      <td>0.00</td>\n",
       "      <td>0.00</td>\n",
       "      <td>C726473569</td>\n",
       "      <td>2624300.06</td>\n",
       "      <td>5105057.96</td>\n",
       "      <td>0</td>\n",
       "    </tr>\n",
       "    <tr>\n",
       "      <th>1</th>\n",
       "      <td>688</td>\n",
       "      <td>CASH_IN</td>\n",
       "      <td>C328151886</td>\n",
       "      <td>5788301.18</td>\n",
       "      <td>6164728.72</td>\n",
       "      <td>C2098160906</td>\n",
       "      <td>447879.01</td>\n",
       "      <td>71451.47</td>\n",
       "      <td>0</td>\n",
       "    </tr>\n",
       "    <tr>\n",
       "      <th>2</th>\n",
       "      <td>226</td>\n",
       "      <td>DEBIT</td>\n",
       "      <td>C1961446946</td>\n",
       "      <td>8020.21</td>\n",
       "      <td>4253.01</td>\n",
       "      <td>C1902968473</td>\n",
       "      <td>65244.29</td>\n",
       "      <td>69011.49</td>\n",
       "      <td>0</td>\n",
       "    </tr>\n",
       "    <tr>\n",
       "      <th>3</th>\n",
       "      <td>353</td>\n",
       "      <td>CASH_IN</td>\n",
       "      <td>C1901396827</td>\n",
       "      <td>1827251.19</td>\n",
       "      <td>1909738.87</td>\n",
       "      <td>C1154031774</td>\n",
       "      <td>87935.41</td>\n",
       "      <td>5447.74</td>\n",
       "      <td>0</td>\n",
       "    </tr>\n",
       "    <tr>\n",
       "      <th>4</th>\n",
       "      <td>140</td>\n",
       "      <td>CASH_IN</td>\n",
       "      <td>C1323292589</td>\n",
       "      <td>107512.00</td>\n",
       "      <td>157798.46</td>\n",
       "      <td>C78095483</td>\n",
       "      <td>158695.46</td>\n",
       "      <td>108409.00</td>\n",
       "      <td>0</td>\n",
       "    </tr>\n",
       "    <tr>\n",
       "      <th>...</th>\n",
       "      <td>...</td>\n",
       "      <td>...</td>\n",
       "      <td>...</td>\n",
       "      <td>...</td>\n",
       "      <td>...</td>\n",
       "      <td>...</td>\n",
       "      <td>...</td>\n",
       "      <td>...</td>\n",
       "      <td>...</td>\n",
       "    </tr>\n",
       "    <tr>\n",
       "      <th>99995</th>\n",
       "      <td>325</td>\n",
       "      <td>CASH_IN</td>\n",
       "      <td>C1022779033</td>\n",
       "      <td>1922566.21</td>\n",
       "      <td>2065016.26</td>\n",
       "      <td>C1273995743</td>\n",
       "      <td>281039.43</td>\n",
       "      <td>138589.37</td>\n",
       "      <td>0</td>\n",
       "    </tr>\n",
       "    <tr>\n",
       "      <th>99996</th>\n",
       "      <td>207</td>\n",
       "      <td>PAYMENT</td>\n",
       "      <td>C2136093503</td>\n",
       "      <td>0.00</td>\n",
       "      <td>0.00</td>\n",
       "      <td>M1633504341</td>\n",
       "      <td>0.00</td>\n",
       "      <td>0.00</td>\n",
       "      <td>0</td>\n",
       "    </tr>\n",
       "    <tr>\n",
       "      <th>99997</th>\n",
       "      <td>17</td>\n",
       "      <td>CASH_IN</td>\n",
       "      <td>C1563653287</td>\n",
       "      <td>1435957.81</td>\n",
       "      <td>1951894.77</td>\n",
       "      <td>C2008877599</td>\n",
       "      <td>984929.00</td>\n",
       "      <td>122279.41</td>\n",
       "      <td>0</td>\n",
       "    </tr>\n",
       "    <tr>\n",
       "      <th>99998</th>\n",
       "      <td>230</td>\n",
       "      <td>CASH_OUT</td>\n",
       "      <td>C628641476</td>\n",
       "      <td>22797.00</td>\n",
       "      <td>0.00</td>\n",
       "      <td>C806584414</td>\n",
       "      <td>642353.01</td>\n",
       "      <td>818808.37</td>\n",
       "      <td>0</td>\n",
       "    </tr>\n",
       "    <tr>\n",
       "      <th>99999</th>\n",
       "      <td>16</td>\n",
       "      <td>CASH_OUT</td>\n",
       "      <td>C536364888</td>\n",
       "      <td>17560.00</td>\n",
       "      <td>0.00</td>\n",
       "      <td>C1130334204</td>\n",
       "      <td>146408.53</td>\n",
       "      <td>185696.12</td>\n",
       "      <td>0</td>\n",
       "    </tr>\n",
       "  </tbody>\n",
       "</table>\n",
       "<p>100000 rows × 9 columns</p>\n",
       "</div>"
      ],
      "text/plain": [
       "       step      type     nameOrig  oldbalanceOrg  newbalanceOrig  \\\n",
       "0       429  TRANSFER  C1150759357           0.00            0.00   \n",
       "1       688   CASH_IN   C328151886     5788301.18      6164728.72   \n",
       "2       226     DEBIT  C1961446946        8020.21         4253.01   \n",
       "3       353   CASH_IN  C1901396827     1827251.19      1909738.87   \n",
       "4       140   CASH_IN  C1323292589      107512.00       157798.46   \n",
       "...     ...       ...          ...            ...             ...   \n",
       "99995   325   CASH_IN  C1022779033     1922566.21      2065016.26   \n",
       "99996   207   PAYMENT  C2136093503           0.00            0.00   \n",
       "99997    17   CASH_IN  C1563653287     1435957.81      1951894.77   \n",
       "99998   230  CASH_OUT   C628641476       22797.00            0.00   \n",
       "99999    16  CASH_OUT   C536364888       17560.00            0.00   \n",
       "\n",
       "          nameDest  oldbalanceDest  newbalanceDest  isFraud  \n",
       "0       C726473569      2624300.06      5105057.96        0  \n",
       "1      C2098160906       447879.01        71451.47        0  \n",
       "2      C1902968473        65244.29        69011.49        0  \n",
       "3      C1154031774        87935.41         5447.74        0  \n",
       "4        C78095483       158695.46       108409.00        0  \n",
       "...            ...             ...             ...      ...  \n",
       "99995  C1273995743       281039.43       138589.37        0  \n",
       "99996  M1633504341            0.00            0.00        0  \n",
       "99997  C2008877599       984929.00       122279.41        0  \n",
       "99998   C806584414       642353.01       818808.37        0  \n",
       "99999  C1130334204       146408.53       185696.12        0  \n",
       "\n",
       "[100000 rows x 9 columns]"
      ]
     },
     "execution_count": 12,
     "metadata": {},
     "output_type": "execute_result"
    }
   ],
   "source": [
    "amount_features"
   ]
  },
  {
   "cell_type": "code",
   "execution_count": 13,
   "id": "65a9d169-25af-4476-bba8-46c5bdb8381b",
   "metadata": {},
   "outputs": [
    {
     "name": "stdout",
     "output_type": "stream",
     "text": [
      "<class 'pandas.core.frame.DataFrame'>\n",
      "RangeIndex: 100000 entries, 0 to 99999\n",
      "Data columns (total 9 columns):\n",
      " #   Column          Non-Null Count   Dtype  \n",
      "---  ------          --------------   -----  \n",
      " 0   step            100000 non-null  int64  \n",
      " 1   type            100000 non-null  object \n",
      " 2   nameOrig        100000 non-null  object \n",
      " 3   oldbalanceOrg   100000 non-null  float64\n",
      " 4   newbalanceOrig  100000 non-null  float64\n",
      " 5   nameDest        100000 non-null  object \n",
      " 6   oldbalanceDest  100000 non-null  float64\n",
      " 7   newbalanceDest  100000 non-null  float64\n",
      " 8   isFraud         100000 non-null  int64  \n",
      "dtypes: float64(4), int64(2), object(3)\n",
      "memory usage: 6.9+ MB\n"
     ]
    }
   ],
   "source": [
    "amount_features.info()"
   ]
  },
  {
   "cell_type": "code",
   "execution_count": 14,
   "id": "53393cff-d98f-4543-957b-b3c4c430a152",
   "metadata": {},
   "outputs": [],
   "source": [
    "# split categorical columns based on cardinality\n",
    "def split_categorical_features(df, n=10):\n",
    "    \"\"\"\n",
    "    Splits categorical columns into 2 lists based on cardinality (i.e # of unique values)\n",
    "    \"\"\"\n",
    "    high_cardinality_cols = [cname for cname in df.columns if df[cname].nunique() > n and df[cname].dtype == 'object']\n",
    "    low_cardinality_cols = [cname for cname in df.columns if df[cname].nunique() < n and df[cname].dtype == 'object']\n",
    "    return low_cardinality_cols, high_cardinality_cols\n",
    "\n",
    "# function to preprocess data\n",
    "def data_preprocessing_pipeline(df):\n",
    "    # numerical and categorical features\n",
    "    categorical_cols = [cname for cname in df.columns if df[cname].dtype == 'object']  # categorical columns \n",
    "    numeric_cols = [cname for cname in df.columns if df[cname].dtype in ['int64', 'int32', 'float64', 'float32']]  # numerical columns\n",
    "\n",
    "    # convert categorical features to string \n",
    "    df[categorical_cols] = df[categorical_cols].astype('object')\n",
    "    \n",
    "    # train set features split by cardinality\n",
    "    categorical_low, categorical_high = split_categorical_features(df)\n",
    "    \n",
    "    # changing the feature to a category type for ordinal encoding\n",
    "    for i in categorical_high:\n",
    "        df[i] = df[i].astype('category')\n",
    "        df[i] = df[i].cat.codes\n",
    "    \n",
    "    # preprocessing pipelines\n",
    "    # continuos pipeline\n",
    "    numeric_transformer = Pipeline(\n",
    "        steps=[('scaler', StandardScaler())]\n",
    "    )\n",
    "\n",
    "    # categorical low pipeline\n",
    "    categorical_transformer_low = Pipeline(\n",
    "        steps=[\n",
    "            ('encoding', OrdinalEncoder())\n",
    "        ]\n",
    "    )\n",
    "\n",
    "    # categorical high pipeline\n",
    "    categorical_transformer_high = Pipeline(\n",
    "        steps=[\n",
    "            ('encoding', OrdinalEncoder()),\n",
    "            ('scaler', StandardScaler())\n",
    "        ]\n",
    "    )\n",
    "    \n",
    "    # create preprocessing pipeline\n",
    "    preprocessor = ColumnTransformer(\n",
    "        transformers=[\n",
    "            (\"numeric\", numeric_transformer, numeric_cols),\n",
    "            (\"categorical_low\", categorical_transformer_low, categorical_low),\n",
    "            (\"categorical_high\", categorical_transformer_high, categorical_high),\n",
    "        ]\n",
    "    )\n",
    "    \n",
    "    return preprocessor"
   ]
  },
  {
   "cell_type": "code",
   "execution_count": 15,
   "id": "94a4e558-425d-4e19-bdac-b04bf2fa8477",
   "metadata": {},
   "outputs": [],
   "source": [
    "# function to extract feature names from pipeline\n",
    "def get_feature_out(estimator, feature_in):\n",
    "    if hasattr(estimator,'get_feature_names'):\n",
    "        if isinstance(estimator, _VectorizerMixin):\n",
    "            # handling all vectorizers\n",
    "            return [f'vec_{f}' \\\n",
    "                for f in estimator.get_feature_names_out()] \n",
    "        else:\n",
    "            return estimator.get_feature_names_out(feature_in)  \n",
    "    elif isinstance(estimator, SelectorMixin):\n",
    "        return np.array(feature_in)[estimator.get_support()]\n",
    "    else:\n",
    "        return feature_in\n",
    "\n",
    "\n",
    "def get_ct_feature_names(ct):\n",
    "    # handles all estimators, pipelines inside ColumnTransfomer\n",
    "    # doesn't work when remainder =='passthrough'\n",
    "    # which requires the input column names.\n",
    "    output_features = []\n",
    "\n",
    "    for name, estimator, features in ct.transformers_:\n",
    "        if name!='remainder':\n",
    "            if isinstance(estimator, Pipeline):\n",
    "                current_features = features\n",
    "                for step in estimator:\n",
    "                    current_features = get_feature_out(step, current_features)\n",
    "                features_out = current_features\n",
    "            else:\n",
    "                features_out = get_feature_out(estimator, features)\n",
    "            output_features.extend(features_out)\n",
    "        elif estimator=='passthrough':\n",
    "            output_features.extend(ct._feature_names_in[features])\n",
    "                \n",
    "    return output_features"
   ]
  },
  {
   "cell_type": "code",
   "execution_count": 16,
   "id": "8ce3606f-c0bf-415e-9248-a93866ebfc01",
   "metadata": {},
   "outputs": [
    {
     "data": {
      "text/html": [
       "<style>#sk-container-id-1 {color: black;background-color: white;}#sk-container-id-1 pre{padding: 0;}#sk-container-id-1 div.sk-toggleable {background-color: white;}#sk-container-id-1 label.sk-toggleable__label {cursor: pointer;display: block;width: 100%;margin-bottom: 0;padding: 0.3em;box-sizing: border-box;text-align: center;}#sk-container-id-1 label.sk-toggleable__label-arrow:before {content: \"▸\";float: left;margin-right: 0.25em;color: #696969;}#sk-container-id-1 label.sk-toggleable__label-arrow:hover:before {color: black;}#sk-container-id-1 div.sk-estimator:hover label.sk-toggleable__label-arrow:before {color: black;}#sk-container-id-1 div.sk-toggleable__content {max-height: 0;max-width: 0;overflow: hidden;text-align: left;background-color: #f0f8ff;}#sk-container-id-1 div.sk-toggleable__content pre {margin: 0.2em;color: black;border-radius: 0.25em;background-color: #f0f8ff;}#sk-container-id-1 input.sk-toggleable__control:checked~div.sk-toggleable__content {max-height: 200px;max-width: 100%;overflow: auto;}#sk-container-id-1 input.sk-toggleable__control:checked~label.sk-toggleable__label-arrow:before {content: \"▾\";}#sk-container-id-1 div.sk-estimator input.sk-toggleable__control:checked~label.sk-toggleable__label {background-color: #d4ebff;}#sk-container-id-1 div.sk-label input.sk-toggleable__control:checked~label.sk-toggleable__label {background-color: #d4ebff;}#sk-container-id-1 input.sk-hidden--visually {border: 0;clip: rect(1px 1px 1px 1px);clip: rect(1px, 1px, 1px, 1px);height: 1px;margin: -1px;overflow: hidden;padding: 0;position: absolute;width: 1px;}#sk-container-id-1 div.sk-estimator {font-family: monospace;background-color: #f0f8ff;border: 1px dotted black;border-radius: 0.25em;box-sizing: border-box;margin-bottom: 0.5em;}#sk-container-id-1 div.sk-estimator:hover {background-color: #d4ebff;}#sk-container-id-1 div.sk-parallel-item::after {content: \"\";width: 100%;border-bottom: 1px solid gray;flex-grow: 1;}#sk-container-id-1 div.sk-label:hover label.sk-toggleable__label {background-color: #d4ebff;}#sk-container-id-1 div.sk-serial::before {content: \"\";position: absolute;border-left: 1px solid gray;box-sizing: border-box;top: 0;bottom: 0;left: 50%;z-index: 0;}#sk-container-id-1 div.sk-serial {display: flex;flex-direction: column;align-items: center;background-color: white;padding-right: 0.2em;padding-left: 0.2em;position: relative;}#sk-container-id-1 div.sk-item {position: relative;z-index: 1;}#sk-container-id-1 div.sk-parallel {display: flex;align-items: stretch;justify-content: center;background-color: white;position: relative;}#sk-container-id-1 div.sk-item::before, #sk-container-id-1 div.sk-parallel-item::before {content: \"\";position: absolute;border-left: 1px solid gray;box-sizing: border-box;top: 0;bottom: 0;left: 50%;z-index: -1;}#sk-container-id-1 div.sk-parallel-item {display: flex;flex-direction: column;z-index: 1;position: relative;background-color: white;}#sk-container-id-1 div.sk-parallel-item:first-child::after {align-self: flex-end;width: 50%;}#sk-container-id-1 div.sk-parallel-item:last-child::after {align-self: flex-start;width: 50%;}#sk-container-id-1 div.sk-parallel-item:only-child::after {width: 0;}#sk-container-id-1 div.sk-dashed-wrapped {border: 1px dashed gray;margin: 0 0.4em 0.5em 0.4em;box-sizing: border-box;padding-bottom: 0.4em;background-color: white;}#sk-container-id-1 div.sk-label label {font-family: monospace;font-weight: bold;display: inline-block;line-height: 1.2em;}#sk-container-id-1 div.sk-label-container {text-align: center;}#sk-container-id-1 div.sk-container {/* jupyter's `normalize.less` sets `[hidden] { display: none; }` but bootstrap.min.css set `[hidden] { display: none !important; }` so we also need the `!important` here to be able to override the default hidden behavior on the sphinx rendered scikit-learn.org. See: https://github.com/scikit-learn/scikit-learn/issues/21755 */display: inline-block !important;position: relative;}#sk-container-id-1 div.sk-text-repr-fallback {display: none;}</style><div id=\"sk-container-id-1\" class=\"sk-top-container\"><div class=\"sk-text-repr-fallback\"><pre>ColumnTransformer(transformers=[(&#x27;numeric&#x27;,\n",
       "                                 Pipeline(steps=[(&#x27;scaler&#x27;, StandardScaler())]),\n",
       "                                 [&#x27;step&#x27;, &#x27;oldbalanceOrg&#x27;, &#x27;newbalanceOrig&#x27;,\n",
       "                                  &#x27;oldbalanceDest&#x27;, &#x27;newbalanceDest&#x27;,\n",
       "                                  &#x27;isFraud&#x27;]),\n",
       "                                (&#x27;categorical_low&#x27;,\n",
       "                                 Pipeline(steps=[(&#x27;encoding&#x27;,\n",
       "                                                  OrdinalEncoder())]),\n",
       "                                 [&#x27;type&#x27;]),\n",
       "                                (&#x27;categorical_high&#x27;,\n",
       "                                 Pipeline(steps=[(&#x27;encoding&#x27;, OrdinalEncoder()),\n",
       "                                                 (&#x27;scaler&#x27;, StandardScaler())]),\n",
       "                                 [&#x27;nameOrig&#x27;, &#x27;nameDest&#x27;])])</pre><b>In a Jupyter environment, please rerun this cell to show the HTML representation or trust the notebook. <br />On GitHub, the HTML representation is unable to render, please try loading this page with nbviewer.org.</b></div><div class=\"sk-container\" hidden><div class=\"sk-item sk-dashed-wrapped\"><div class=\"sk-label-container\"><div class=\"sk-label sk-toggleable\"><input class=\"sk-toggleable__control sk-hidden--visually\" id=\"sk-estimator-id-1\" type=\"checkbox\" ><label for=\"sk-estimator-id-1\" class=\"sk-toggleable__label sk-toggleable__label-arrow\">ColumnTransformer</label><div class=\"sk-toggleable__content\"><pre>ColumnTransformer(transformers=[(&#x27;numeric&#x27;,\n",
       "                                 Pipeline(steps=[(&#x27;scaler&#x27;, StandardScaler())]),\n",
       "                                 [&#x27;step&#x27;, &#x27;oldbalanceOrg&#x27;, &#x27;newbalanceOrig&#x27;,\n",
       "                                  &#x27;oldbalanceDest&#x27;, &#x27;newbalanceDest&#x27;,\n",
       "                                  &#x27;isFraud&#x27;]),\n",
       "                                (&#x27;categorical_low&#x27;,\n",
       "                                 Pipeline(steps=[(&#x27;encoding&#x27;,\n",
       "                                                  OrdinalEncoder())]),\n",
       "                                 [&#x27;type&#x27;]),\n",
       "                                (&#x27;categorical_high&#x27;,\n",
       "                                 Pipeline(steps=[(&#x27;encoding&#x27;, OrdinalEncoder()),\n",
       "                                                 (&#x27;scaler&#x27;, StandardScaler())]),\n",
       "                                 [&#x27;nameOrig&#x27;, &#x27;nameDest&#x27;])])</pre></div></div></div><div class=\"sk-parallel\"><div class=\"sk-parallel-item\"><div class=\"sk-item\"><div class=\"sk-label-container\"><div class=\"sk-label sk-toggleable\"><input class=\"sk-toggleable__control sk-hidden--visually\" id=\"sk-estimator-id-2\" type=\"checkbox\" ><label for=\"sk-estimator-id-2\" class=\"sk-toggleable__label sk-toggleable__label-arrow\">numeric</label><div class=\"sk-toggleable__content\"><pre>[&#x27;step&#x27;, &#x27;oldbalanceOrg&#x27;, &#x27;newbalanceOrig&#x27;, &#x27;oldbalanceDest&#x27;, &#x27;newbalanceDest&#x27;, &#x27;isFraud&#x27;]</pre></div></div></div><div class=\"sk-serial\"><div class=\"sk-item\"><div class=\"sk-serial\"><div class=\"sk-item\"><div class=\"sk-estimator sk-toggleable\"><input class=\"sk-toggleable__control sk-hidden--visually\" id=\"sk-estimator-id-3\" type=\"checkbox\" ><label for=\"sk-estimator-id-3\" class=\"sk-toggleable__label sk-toggleable__label-arrow\">StandardScaler</label><div class=\"sk-toggleable__content\"><pre>StandardScaler()</pre></div></div></div></div></div></div></div></div><div class=\"sk-parallel-item\"><div class=\"sk-item\"><div class=\"sk-label-container\"><div class=\"sk-label sk-toggleable\"><input class=\"sk-toggleable__control sk-hidden--visually\" id=\"sk-estimator-id-4\" type=\"checkbox\" ><label for=\"sk-estimator-id-4\" class=\"sk-toggleable__label sk-toggleable__label-arrow\">categorical_low</label><div class=\"sk-toggleable__content\"><pre>[&#x27;type&#x27;]</pre></div></div></div><div class=\"sk-serial\"><div class=\"sk-item\"><div class=\"sk-serial\"><div class=\"sk-item\"><div class=\"sk-estimator sk-toggleable\"><input class=\"sk-toggleable__control sk-hidden--visually\" id=\"sk-estimator-id-5\" type=\"checkbox\" ><label for=\"sk-estimator-id-5\" class=\"sk-toggleable__label sk-toggleable__label-arrow\">OrdinalEncoder</label><div class=\"sk-toggleable__content\"><pre>OrdinalEncoder()</pre></div></div></div></div></div></div></div></div><div class=\"sk-parallel-item\"><div class=\"sk-item\"><div class=\"sk-label-container\"><div class=\"sk-label sk-toggleable\"><input class=\"sk-toggleable__control sk-hidden--visually\" id=\"sk-estimator-id-6\" type=\"checkbox\" ><label for=\"sk-estimator-id-6\" class=\"sk-toggleable__label sk-toggleable__label-arrow\">categorical_high</label><div class=\"sk-toggleable__content\"><pre>[&#x27;nameOrig&#x27;, &#x27;nameDest&#x27;]</pre></div></div></div><div class=\"sk-serial\"><div class=\"sk-item\"><div class=\"sk-serial\"><div class=\"sk-item\"><div class=\"sk-estimator sk-toggleable\"><input class=\"sk-toggleable__control sk-hidden--visually\" id=\"sk-estimator-id-7\" type=\"checkbox\" ><label for=\"sk-estimator-id-7\" class=\"sk-toggleable__label sk-toggleable__label-arrow\">OrdinalEncoder</label><div class=\"sk-toggleable__content\"><pre>OrdinalEncoder()</pre></div></div></div><div class=\"sk-item\"><div class=\"sk-estimator sk-toggleable\"><input class=\"sk-toggleable__control sk-hidden--visually\" id=\"sk-estimator-id-8\" type=\"checkbox\" ><label for=\"sk-estimator-id-8\" class=\"sk-toggleable__label sk-toggleable__label-arrow\">StandardScaler</label><div class=\"sk-toggleable__content\"><pre>StandardScaler()</pre></div></div></div></div></div></div></div></div></div></div></div></div>"
      ],
      "text/plain": [
       "ColumnTransformer(transformers=[('numeric',\n",
       "                                 Pipeline(steps=[('scaler', StandardScaler())]),\n",
       "                                 ['step', 'oldbalanceOrg', 'newbalanceOrig',\n",
       "                                  'oldbalanceDest', 'newbalanceDest',\n",
       "                                  'isFraud']),\n",
       "                                ('categorical_low',\n",
       "                                 Pipeline(steps=[('encoding',\n",
       "                                                  OrdinalEncoder())]),\n",
       "                                 ['type']),\n",
       "                                ('categorical_high',\n",
       "                                 Pipeline(steps=[('encoding', OrdinalEncoder()),\n",
       "                                                 ('scaler', StandardScaler())]),\n",
       "                                 ['nameOrig', 'nameDest'])])"
      ]
     },
     "execution_count": 16,
     "metadata": {},
     "output_type": "execute_result"
    }
   ],
   "source": [
    "# preprocess dataset for modeling\n",
    "preprocessor = data_preprocessing_pipeline(amount_features)\n",
    "preprocessor"
   ]
  },
  {
   "cell_type": "code",
   "execution_count": 17,
   "id": "4b18a052-6e25-4d25-8102-822b82743072",
   "metadata": {},
   "outputs": [
    {
     "data": {
      "text/html": [
       "<div>\n",
       "<style scoped>\n",
       "    .dataframe tbody tr th:only-of-type {\n",
       "        vertical-align: middle;\n",
       "    }\n",
       "\n",
       "    .dataframe tbody tr th {\n",
       "        vertical-align: top;\n",
       "    }\n",
       "\n",
       "    .dataframe thead th {\n",
       "        text-align: right;\n",
       "    }\n",
       "</style>\n",
       "<table border=\"1\" class=\"dataframe\">\n",
       "  <thead>\n",
       "    <tr style=\"text-align: right;\">\n",
       "      <th></th>\n",
       "      <th>step</th>\n",
       "      <th>oldbalanceOrg</th>\n",
       "      <th>newbalanceOrig</th>\n",
       "      <th>oldbalanceDest</th>\n",
       "      <th>newbalanceDest</th>\n",
       "      <th>isFraud</th>\n",
       "      <th>type</th>\n",
       "      <th>nameOrig</th>\n",
       "      <th>nameDest</th>\n",
       "    </tr>\n",
       "  </thead>\n",
       "  <tbody>\n",
       "    <tr>\n",
       "      <th>0</th>\n",
       "      <td>1.312111</td>\n",
       "      <td>-0.291058</td>\n",
       "      <td>-0.294772</td>\n",
       "      <td>0.437111</td>\n",
       "      <td>1.022194</td>\n",
       "      <td>-0.037039</td>\n",
       "      <td>4.0</td>\n",
       "      <td>-1.460836</td>\n",
       "      <td>0.203279</td>\n",
       "    </tr>\n",
       "    <tr>\n",
       "      <th>1</th>\n",
       "      <td>3.137930</td>\n",
       "      <td>1.701694</td>\n",
       "      <td>1.802301</td>\n",
       "      <td>-0.191279</td>\n",
       "      <td>-0.307597</td>\n",
       "      <td>-0.037039</td>\n",
       "      <td>0.0</td>\n",
       "      <td>0.537979</td>\n",
       "      <td>-0.433717</td>\n",
       "    </tr>\n",
       "    <tr>\n",
       "      <th>2</th>\n",
       "      <td>-0.118937</td>\n",
       "      <td>-0.288297</td>\n",
       "      <td>-0.293325</td>\n",
       "      <td>-0.301755</td>\n",
       "      <td>-0.308242</td>\n",
       "      <td>-0.037039</td>\n",
       "      <td>2.0</td>\n",
       "      <td>-0.000973</td>\n",
       "      <td>-0.658161</td>\n",
       "    </tr>\n",
       "    <tr>\n",
       "      <th>3</th>\n",
       "      <td>0.776349</td>\n",
       "      <td>0.338014</td>\n",
       "      <td>0.354869</td>\n",
       "      <td>-0.295204</td>\n",
       "      <td>-0.325034</td>\n",
       "      <td>-0.037039</td>\n",
       "      <td>0.0</td>\n",
       "      <td>-0.110164</td>\n",
       "      <td>-1.520880</td>\n",
       "    </tr>\n",
       "    <tr>\n",
       "      <th>4</th>\n",
       "      <td>-0.725193</td>\n",
       "      <td>-0.254045</td>\n",
       "      <td>-0.241093</td>\n",
       "      <td>-0.274774</td>\n",
       "      <td>-0.297834</td>\n",
       "      <td>-0.037039</td>\n",
       "      <td>0.0</td>\n",
       "      <td>-1.144559</td>\n",
       "      <td>0.264463</td>\n",
       "    </tr>\n",
       "  </tbody>\n",
       "</table>\n",
       "</div>"
      ],
      "text/plain": [
       "       step  oldbalanceOrg  newbalanceOrig  oldbalanceDest  newbalanceDest  \\\n",
       "0  1.312111      -0.291058       -0.294772        0.437111        1.022194   \n",
       "1  3.137930       1.701694        1.802301       -0.191279       -0.307597   \n",
       "2 -0.118937      -0.288297       -0.293325       -0.301755       -0.308242   \n",
       "3  0.776349       0.338014        0.354869       -0.295204       -0.325034   \n",
       "4 -0.725193      -0.254045       -0.241093       -0.274774       -0.297834   \n",
       "\n",
       "    isFraud  type  nameOrig  nameDest  \n",
       "0 -0.037039   4.0 -1.460836  0.203279  \n",
       "1 -0.037039   0.0  0.537979 -0.433717  \n",
       "2 -0.037039   2.0 -0.000973 -0.658161  \n",
       "3 -0.037039   0.0 -0.110164 -1.520880  \n",
       "4 -0.037039   0.0 -1.144559  0.264463  "
      ]
     },
     "execution_count": 17,
     "metadata": {},
     "output_type": "execute_result"
    }
   ],
   "source": [
    "# final preprocessed data pipeline\n",
    "preprocessed_amount_df = preprocessor.fit_transform(amount_features)\n",
    "preprocessed_amount = pd.DataFrame(preprocessed_amount_df, columns=get_ct_feature_names(preprocessor))\n",
    "preprocessed_amount.head()"
   ]
  },
  {
   "cell_type": "markdown",
   "id": "fd7e024d-a004-4278-a2e9-0be392a77e6a",
   "metadata": {},
   "source": [
    "### Split data into 60% training, 20% validation and 20% testing sets\n",
    "Here we split the data into training, validation and testing sets in the ratio 60:20:20 respectively."
   ]
  },
  {
   "cell_type": "code",
   "execution_count": 18,
   "id": "5889f1c7-9109-4b16-bae9-111337310d86",
   "metadata": {},
   "outputs": [
    {
     "name": "stdout",
     "output_type": "stream",
     "text": [
      "The train set now contains 60000 dataset representing 60% of the data\n",
      "The valid set now contains 20000 dataset representing 20% of the data\n",
      "The test set now contains 20000 dataset representing 20% of the data\n"
     ]
    }
   ],
   "source": [
    "# split data into training and testing sets\n",
    "X_train, X_test, y_train, y_test = train_test_split(preprocessed_amount, amount_target, test_size=0.20, random_state=12345)\n",
    "\n",
    "# split train data into validation and train \n",
    "X_train, X_valid, y_train, y_valid = train_test_split(X_train, y_train, test_size = 0.25, random_state = 12345) # 0.25 * 0.80 = 0.20 for validation size\n",
    "\n",
    "# display the shape of the split dataset\n",
    "print('The train set now contains {}'.format(X_train.shape[0]) + ' dataset representing 60% of the data') \n",
    "print('The valid set now contains {}'.format(X_valid.shape[0]) + ' dataset representing 20% of the data')\n",
    "print('The test set now contains {}'.format(X_test.shape[0]) + ' dataset representing 20% of the data')"
   ]
  },
  {
   "cell_type": "markdown",
   "id": "40ca390c-2e6c-458c-9981-b1200efda3ee",
   "metadata": {},
   "source": [
    "### Train Linear Regressor"
   ]
  },
  {
   "cell_type": "code",
   "execution_count": 19,
   "id": "9005fcea-9f51-4e10-a6ba-7ffb8e6fbb57",
   "metadata": {},
   "outputs": [],
   "source": [
    "# function to train model and make predictions\n",
    "def train_linear_model(X_train, y_train):\n",
    "    \"\"\"This function trains a linear model\"\"\"\n",
    "    global lr_model\n",
    "    lr_model = LinearRegression()\n",
    "    lr_model.fit(X_train, y_train)\n",
    "    \n",
    "def linear_regressor_prediction(X_test, y_test):\n",
    "    \"\"\"\n",
    "    This function is used to make prediction \n",
    "    using a linear regression model\n",
    "    \"\"\"\n",
    "    lr_pred = lr_model.predict(X_test)\n",
    "    # rmse for linear model\n",
    "    lr_rmse = np.sqrt(mean_squared_error(y_test, lr_pred))\n",
    "    print(\"\\033[1m\" + 'RMSE using Linear Regression' + \"\\033[0m\")\n",
    "    print('RMSE: {:.3f}'.format(lr_rmse))\n",
    "    print()"
   ]
  },
  {
   "cell_type": "code",
   "execution_count": 20,
   "id": "294eff9c-405c-4502-816f-2cc4681e1170",
   "metadata": {},
   "outputs": [
    {
     "name": "stdout",
     "output_type": "stream",
     "text": [
      "CPU times: total: 31.2 ms\n",
      "Wall time: 22.9 ms\n"
     ]
    }
   ],
   "source": [
    "%%time\n",
    "# train linear model\n",
    "train_linear_model(X_train, y_train)"
   ]
  },
  {
   "cell_type": "code",
   "execution_count": 21,
   "id": "46d625ea-7b11-4c2f-a6fc-9f2b92ba99d5",
   "metadata": {},
   "outputs": [
    {
     "name": "stdout",
     "output_type": "stream",
     "text": [
      "\u001b[1mRMSE using Linear Regression\u001b[0m\n",
      "RMSE: 389544.893\n",
      "\n",
      "CPU times: total: 0 ns\n",
      "Wall time: 3.99 ms\n"
     ]
    }
   ],
   "source": [
    "%%time\n",
    "# make predictions with linear regression for validation data\n",
    "linear_regressor_prediction(X_valid, y_valid)"
   ]
  },
  {
   "cell_type": "markdown",
   "id": "90f5b6ce-fda5-4047-bd83-3dcc85d78a7b",
   "metadata": {},
   "source": [
    "### Train KNeighbors Regressor"
   ]
  },
  {
   "cell_type": "code",
   "execution_count": 22,
   "id": "acc79ea0-b245-4cb0-8260-4ba22ab8c3a8",
   "metadata": {},
   "outputs": [
    {
     "name": "stdout",
     "output_type": "stream",
     "text": [
      "The best hyperparameters are: {'algorithm': 'auto', 'n_neighbors': 4}\n",
      "CPU times: total: 4min 25s\n",
      "Wall time: 2min 50s\n"
     ]
    }
   ],
   "source": [
    "%%time\n",
    "# hyperparameter optimization for KNeighbors regression\n",
    "\n",
    "# define hyperparameters to tune\n",
    "knn_grid = {'n_neighbors' : range(1,5,1),\n",
    "            'algorithm' : ['auto', 'ball_tree', 'kd_tree', 'brute'],\n",
    "            }\n",
    "# define the model \n",
    "knn_regr = KNeighborsRegressor()\n",
    "\n",
    "# define the grid search\n",
    "grid_search_knn = GridSearchCV(\n",
    "    estimator = knn_regr, \n",
    "    param_grid = knn_grid, \n",
    "    scoring = \"neg_mean_squared_error\", \n",
    "    cv = 5, \n",
    "    n_jobs = 1\n",
    ")\n",
    "# execute search\n",
    "grid_search_knn.fit(X_train, y_train)\n",
    "# summarize result\n",
    "print('The best hyperparameters are: {}'.format(grid_search_knn.best_params_))"
   ]
  },
  {
   "cell_type": "code",
   "execution_count": 23,
   "id": "c48c2c8a-6d76-4547-b7e1-240648f267ca",
   "metadata": {},
   "outputs": [],
   "source": [
    "# function to train model and make predictions\n",
    "def train_KNeighbors_regressor(X_train, y_train):\n",
    "    \"\"\"This function trains a KNeighbors regressor model\"\"\"\n",
    "    global knn_model\n",
    "    # build the model\n",
    "    knn_model = KNeighborsRegressor(**grid_search_knn.best_params_)\n",
    "    knn_model.fit(X_train, y_train) # train the model \n",
    "    \n",
    "def KNeighbors_regressor_prediction(X_test, y_test):\n",
    "    \"\"\"\n",
    "    This function is used to make prediction \n",
    "    using the KNeighbors regression model\n",
    "    \"\"\"\n",
    "    knn_pred = knn_model.predict(X_test)\n",
    "    # determine RMSE for KNeighbors regressor\n",
    "    knn_rmse = np.sqrt(mean_squared_error(y_test, knn_pred))\n",
    "    print(\"\\033[1m\" + 'RMSE using KNeighbors Regressor' + \"\\033[0m\")\n",
    "    print('RMSE: {:.3f}'.format(knn_rmse))\n",
    "    print()"
   ]
  },
  {
   "cell_type": "code",
   "execution_count": 24,
   "id": "ee086086-ca49-4752-8167-f5092322a26d",
   "metadata": {},
   "outputs": [
    {
     "name": "stdout",
     "output_type": "stream",
     "text": [
      "CPU times: total: 188 ms\n",
      "Wall time: 185 ms\n"
     ]
    }
   ],
   "source": [
    "%%time\n",
    "# train KNeighbors regressor model\n",
    "train_KNeighbors_regressor(X_train, y_train)"
   ]
  },
  {
   "cell_type": "code",
   "execution_count": 25,
   "id": "442f67cc-0552-4ca0-ad0a-897f089d8c17",
   "metadata": {},
   "outputs": [
    {
     "name": "stdout",
     "output_type": "stream",
     "text": [
      "\u001b[1mRMSE using KNeighbors Regressor\u001b[0m\n",
      "RMSE: 345467.674\n",
      "\n",
      "CPU times: total: 3.2 s\n",
      "Wall time: 3.21 s\n"
     ]
    }
   ],
   "source": [
    "%%time\n",
    "# make predictions with KNeighbors regressor for validation data\n",
    "KNeighbors_regressor_prediction(X_valid, y_valid)"
   ]
  },
  {
   "cell_type": "markdown",
   "id": "0219cc7e-b918-4060-8837-f8f0618242df",
   "metadata": {},
   "source": [
    "### Train LightGBM Regressor"
   ]
  },
  {
   "cell_type": "code",
   "execution_count": 26,
   "id": "b207ccfd-d4f8-48dc-8988-56d3b12aa3a1",
   "metadata": {},
   "outputs": [
    {
     "name": "stdout",
     "output_type": "stream",
     "text": [
      "The best hyperparameters are: {'learning_rate': 0.1, 'n_estimators': 500, 'num_leaves': 5}\n",
      "CPU times: total: 12min 22s\n",
      "Wall time: 2min 1s\n"
     ]
    }
   ],
   "source": [
    "%%time\n",
    "# hyperparameter optimization for LightGBM regression\n",
    "\n",
    "# define hyperparameters to tune\n",
    "lgbm_grid = {'learning_rate': [0.001, 0.01, 0.05, 0.1],\n",
    "             'n_estimators': [50, 100, 500],\n",
    "             'num_leaves': [5, 10, 20, 31]\n",
    "            }\n",
    "# define the model \n",
    "lgbm_regr = LGBMRegressor(random_state = 12345)\n",
    "\n",
    "# define the grid search\n",
    "grid_search_lgbm = GridSearchCV(\n",
    "    estimator = lgbm_regr, \n",
    "    param_grid = lgbm_grid, \n",
    "    scoring = \"neg_mean_squared_error\", \n",
    "    cv = 5, \n",
    "    n_jobs = 1\n",
    ")\n",
    "# execute search\n",
    "grid_search_lgbm.fit(X_train, y_train)\n",
    "# summarize result\n",
    "print('The best hyperparameters are: {}'.format(grid_search_lgbm.best_params_))"
   ]
  },
  {
   "cell_type": "code",
   "execution_count": 27,
   "id": "3ad9c880-5ae1-4b53-9276-b64b8317f234",
   "metadata": {},
   "outputs": [],
   "source": [
    "# function to train model and make predictions\n",
    "def train_lightGBM_regressor(X_train, y_train):\n",
    "    \"\"\"This function trains a LightGBM regressor model\"\"\"\n",
    "    global lgbm_model\n",
    "    # build the model\n",
    "    lgbm_model = LGBMRegressor(**grid_search_lgbm.best_params_)\n",
    "    lgbm_model.fit(X_train, y_train) # train the model \n",
    "    \n",
    "def lightGBM_regressor_prediction(X_test, y_test):\n",
    "    \"\"\"\n",
    "    This function is used to make prediction \n",
    "    using the lightGBM regression model\n",
    "    \"\"\"\n",
    "    lgbm_pred = lgbm_model.predict(X_test)\n",
    "    # determine RMSE for LightGBM regressor\n",
    "    lgbm_rmse = np.sqrt(mean_squared_error(y_test, lgbm_pred))\n",
    "    print(\"\\033[1m\" + 'RMSE using LightGBM Regressor' + \"\\033[0m\")\n",
    "    print('RMSE: {:.3f}'.format(lgbm_rmse))\n",
    "    print()\n",
    "    # feature importance from LightGBM regression \n",
    "    sorted_feature_importance = lgbm_model.feature_importances_.argsort()\n",
    "    plt.figure(figsize=(8,6))\n",
    "    plt.barh(X_train.columns[sorted_feature_importance], \n",
    "             lgbm_model.feature_importances_[sorted_feature_importance], \n",
    "             color='turquoise')\n",
    "    plt.xlabel(\"LightGBM Feature Importance\")"
   ]
  },
  {
   "cell_type": "code",
   "execution_count": 28,
   "id": "b4c73630-2021-42c9-a8d9-8f300326cbe9",
   "metadata": {},
   "outputs": [
    {
     "name": "stdout",
     "output_type": "stream",
     "text": [
      "CPU times: total: 4.11 s\n",
      "Wall time: 641 ms\n"
     ]
    }
   ],
   "source": [
    "%%time\n",
    "# train lightGBM regressor model\n",
    "train_lightGBM_regressor(X_train, y_train)"
   ]
  },
  {
   "cell_type": "code",
   "execution_count": 29,
   "id": "b8e84253-490c-407d-959b-c6ea34500733",
   "metadata": {},
   "outputs": [
    {
     "name": "stdout",
     "output_type": "stream",
     "text": [
      "\u001b[1mRMSE using LightGBM Regressor\u001b[0m\n",
      "RMSE: 338441.072\n",
      "\n",
      "CPU times: total: 812 ms\n",
      "Wall time: 151 ms\n"
     ]
    },
    {
     "data": {
      "image/png": "[encoded data removed]",
      "text/plain": [
       "<Figure size 576x432 with 1 Axes>"
      ]
     },
     "metadata": {
      "needs_background": "light"
     },
     "output_type": "display_data"
    }
   ],
   "source": [
    "%%time\n",
    "# make predictions with lightGBM regressor for validation data\n",
    "lightGBM_regressor_prediction(X_valid, y_valid)"
   ]
  },
  {
   "cell_type": "markdown",
   "id": "b46d2040-d1ad-44ac-bd46-b9c4e4f238ff",
   "metadata": {},
   "source": [
    "### Train XGBoost Regressor"
   ]
  },
  {
   "cell_type": "code",
   "execution_count": 30,
   "id": "467b7efb-4402-4a3e-ad78-e6c7659aa617",
   "metadata": {},
   "outputs": [
    {
     "name": "stdout",
     "output_type": "stream",
     "text": [
      "The best hyperparameters are: {'learning_rate': 0.3, 'max_depth': 4}\n",
      "CPU times: total: 20min 32s\n",
      "Wall time: 3min 23s\n"
     ]
    }
   ],
   "source": [
    "%%time\n",
    "# hyperparameter optimization for XGBoost\n",
    "\n",
    "# define hyperparameters to tune\n",
    "xgb_grid = {'learning_rate': [0.001, 0.1, 0.3], \n",
    "            'max_depth': [4, 6, 10]\n",
    "           }\n",
    "# define the model \n",
    "xgb_regr = XGBRegressor(random_state = 12345)\n",
    "\n",
    "# define the grid search\n",
    "grid_search_xgb = GridSearchCV(\n",
    "    estimator = xgb_regr, \n",
    "    param_grid = xgb_grid, \n",
    "    scoring = \"neg_mean_squared_error\", \n",
    "    cv = 5, \n",
    "    n_jobs = 1\n",
    ")\n",
    "# execute search\n",
    "grid_search_xgb.fit(X_train, y_train)\n",
    "# summarize result\n",
    "print('The best hyperparameters are: {}'.format(grid_search_xgb.best_params_))"
   ]
  },
  {
   "cell_type": "code",
   "execution_count": 31,
   "id": "1525f8d7-462f-48c3-9a2e-334115948a0b",
   "metadata": {},
   "outputs": [],
   "source": [
    "# function to train model and make predictions\n",
    "def train_xgboost_regressor(X_train, y_train):\n",
    "    \"\"\"This function trains a XGBoost regressor model\"\"\"\n",
    "    global xgb_model\n",
    "    # build the model\n",
    "    xgb_model = XGBRegressor(**grid_search_xgb.best_params_)\n",
    "    xgb_model.fit(X_train, y_train) # train the model \n",
    "    \n",
    "def xgboost_regressor_prediction(X_test, y_test):\n",
    "    \"\"\"\n",
    "    This function is used to make prediction \n",
    "    using the XGBoost regression model\n",
    "    \"\"\"\n",
    "    xgb_pred = xgb_model.predict(X_test)\n",
    "    # determine RMSE for XGBoost regressor\n",
    "    xgb_rmse = np.sqrt(mean_squared_error(y_test, xgb_pred))\n",
    "    print(\"\\033[1m\" + 'RMSE using XGBoost Regressor' + \"\\033[0m\")\n",
    "    print('RMSE: {:.3f}'.format(xgb_rmse))\n",
    "    print()\n",
    "    # feature importance from XGBoost regression \n",
    "    sorted_feature_importance = xgb_model.feature_importances_.argsort()\n",
    "    plt.figure(figsize=(8,6))\n",
    "    plt.barh(X_train.columns[sorted_feature_importance], \n",
    "             xgb_model.feature_importances_[sorted_feature_importance], \n",
    "             color='turquoise')\n",
    "    plt.xlabel(\"XGBoost Feature Importance\")"
   ]
  },
  {
   "cell_type": "code",
   "execution_count": 32,
   "id": "5798f97f-a14a-4b39-afdd-7675809ab282",
   "metadata": {},
   "outputs": [
    {
     "name": "stdout",
     "output_type": "stream",
     "text": [
      "CPU times: total: 19.5 s\n",
      "Wall time: 3.18 s\n"
     ]
    }
   ],
   "source": [
    "%%time\n",
    "# train xgboost regressor model\n",
    "train_xgboost_regressor(X_train, y_train)"
   ]
  },
  {
   "cell_type": "code",
   "execution_count": 33,
   "id": "23031410-a56c-4f44-b96c-553a81db8fbe",
   "metadata": {},
   "outputs": [
    {
     "name": "stdout",
     "output_type": "stream",
     "text": [
      "\u001b[1mRMSE using XGBoost Regressor\u001b[0m\n",
      "RMSE: 284319.088\n",
      "\n",
      "CPU times: total: 891 ms\n",
      "Wall time: 184 ms\n"
     ]
    },
    {
     "data": {
      "image/png": "[encoded data removed]",
      "text/plain": [
       "<Figure size 576x432 with 1 Axes>"
      ]
     },
     "metadata": {
      "needs_background": "light"
     },
     "output_type": "display_data"
    }
   ],
   "source": [
    "%%time\n",
    "# make predictions with xgboost regressor for validation data\n",
    "xgboost_regressor_prediction(X_valid, y_valid)"
   ]
  },
  {
   "cell_type": "code",
   "execution_count": null,
   "id": "da3edb5b-1dc5-44f0-92e9-495f6b8a5af9",
   "metadata": {},
   "outputs": [],
   "source": []
  },
  {
   "cell_type": "markdown",
   "id": "2e3a7b99-1a6a-40fe-934d-ba5ff742ed1a",
   "metadata": {},
   "source": [
    "### Train Random Forest Regressor"
   ]
  },
  {
   "cell_type": "code",
   "execution_count": 35,
   "id": "193596ca-8256-45d3-88f2-d56ea8a92410",
   "metadata": {},
   "outputs": [
    {
     "name": "stdout",
     "output_type": "stream",
     "text": [
      "The best hyperparameters are: {'max_depth': None, 'n_estimators': 50}\n",
      "CPU times: total: 6min 58s\n",
      "Wall time: 6min 59s\n"
     ]
    }
   ],
   "source": [
    "%%time\n",
    "# hyperparameter optimization\n",
    "\n",
    "# define hyperparameters to tune\n",
    "grid = {\n",
    "    \"n_estimators\" : [50, 100],\n",
    "    \"max_depth\" : [None, 2, 10]\n",
    "}\n",
    "# define the model \n",
    "regressor = RandomForestRegressor(random_state = 12345)\n",
    "# define the grid search\n",
    "grid_search_rf = GridSearchCV(estimator = regressor, param_grid = grid, scoring=\"neg_mean_squared_error\", cv=5)\n",
    "# execute search\n",
    "grid_search_rf.fit(X_train, y_train)\n",
    "# summarize result\n",
    "print('The best hyperparameters are: {}'.format(grid_search_rf.best_params_))"
   ]
  },
  {
   "cell_type": "code",
   "execution_count": 36,
   "id": "e640004f-d536-4ac2-ac3a-0eced2a73391",
   "metadata": {},
   "outputs": [],
   "source": [
    "# function to train model and make predictions\n",
    "def train_random_forest(X_train, y_train):\n",
    "    \"\"\"This function trains a random forest model\"\"\"\n",
    "    global rf_model\n",
    "    # build the model\n",
    "    rf_model = RandomForestRegressor(**grid_search_rf.best_params_)\n",
    "    rf_model.fit(X_train, y_train) # train the model \n",
    "    \n",
    "def random_forest_regressor_prediction(X_test, y_test):\n",
    "    \"\"\"\n",
    "    This function is used to make prediction \n",
    "    using a random forest regression model\n",
    "    \"\"\"\n",
    "    rf_pred = rf_model.predict(X_test)\n",
    "    # determine RMSE for random forest regressor\n",
    "    rf_rmse = np.sqrt(mean_squared_error(y_test, rf_pred))\n",
    "    print(\"\\033[1m\" + 'RMSE using Random Forest Regressor' + \"\\033[0m\")\n",
    "    print('RMSE: {:.3f}'.format(rf_rmse))\n",
    "    print()\n",
    "    # feature importance from random forest regression \n",
    "    sorted_feature_importance = rf_model.feature_importances_.argsort()\n",
    "    plt.figure(figsize=(8,6))\n",
    "    plt.barh(X_train.columns[sorted_feature_importance], \n",
    "             rf_model.feature_importances_[sorted_feature_importance], \n",
    "             color='turquoise')\n",
    "    plt.xlabel(\"Random Forest Feature Importance\")"
   ]
  },
  {
   "cell_type": "code",
   "execution_count": 37,
   "id": "d1138fda-bcdf-4f30-9778-7676141135f1",
   "metadata": {},
   "outputs": [
    {
     "name": "stdout",
     "output_type": "stream",
     "text": [
      "CPU times: total: 20.8 s\n",
      "Wall time: 20.8 s\n"
     ]
    }
   ],
   "source": [
    "%%time\n",
    "# train random forest model\n",
    "train_random_forest(X_train, y_train)"
   ]
  },
  {
   "cell_type": "code",
   "execution_count": 38,
   "id": "6d12bc4e-fa55-47cf-a68c-df960b598104",
   "metadata": {},
   "outputs": [
    {
     "name": "stdout",
     "output_type": "stream",
     "text": [
      "\u001b[1mRMSE using Random Forest Regressor\u001b[0m\n",
      "RMSE: 277164.455\n",
      "\n",
      "CPU times: total: 375 ms\n",
      "Wall time: 381 ms\n"
     ]
    },
    {
     "data": {
      "image/png": "[encoded data removed]",
      "text/plain": [
       "<Figure size 576x432 with 1 Axes>"
      ]
     },
     "metadata": {
      "needs_background": "light"
     },
     "output_type": "display_data"
    }
   ],
   "source": [
    "%%time\n",
    "# make predictions with random forest regressor for validation data\n",
    "random_forest_regressor_prediction(X_valid, y_valid)"
   ]
  },
  {
   "cell_type": "code",
   "execution_count": null,
   "id": "9a461c2e-eb6a-437d-bc96-c60edd2df813",
   "metadata": {},
   "outputs": [],
   "source": []
  },
  {
   "cell_type": "markdown",
   "id": "5195cea6-fa62-4f09-9f67-99ff1274b0bc",
   "metadata": {},
   "source": [
    "### Model testing\n",
    "\n",
    "The XGBoost regressor is chosen as the model for the final testing since it gave the lowest RMSE and have the lowest tuning and prediction time."
   ]
  },
  {
   "cell_type": "code",
   "execution_count": 42,
   "id": "52370110-274d-429f-a802-77648118eb38",
   "metadata": {},
   "outputs": [
    {
     "name": "stdout",
     "output_type": "stream",
     "text": [
      "\u001b[1mRMSE using XGBoost Regressor\u001b[0m\n",
      "RMSE: 278339.832\n",
      "\n"
     ]
    },
    {
     "data": {
      "image/png": "[encoded data removed]",
      "text/plain": [
       "<Figure size 576x432 with 1 Axes>"
      ]
     },
     "metadata": {
      "needs_background": "light"
     },
     "output_type": "display_data"
    }
   ],
   "source": [
    "# make predictions with XGBoost regressor for test data\n",
    "xgboost_regressor_prediction(X_test, y_test)"
   ]
  },
  {
   "cell_type": "markdown",
   "id": "43230b85-ead6-4baf-9869-9a13dc114bcf",
   "metadata": {},
   "source": [
    "### Conclusion\n",
    "\n",
    "We explored the data and studied the general information about the data. We observed that the data consisted of 100000rows and 11 features. looking through the features we observed that there are 3 categorical features and 7 numberical features. We explored the data by finding the unique count of the `type` features and grouped `type` by the amount to see the amount grouped by type of transaction. We checked for correlation within the data and observed that there is high correlation between `oldbalanceDest` and `newbalanceDest` and also between `oldbalanceOrig` and `newbalanceOrig`. We also observed that `isFlaggedFraud` contains just '0' as its unique value. Since we don't have any more information about the data, we dropped that `isFlaggedFraud` feature. \n",
    "\n",
    "We passed the data through a preprocessing pipeline and split the data into 60% training, 20% testing and 20% validation sets. We trained the `linear regressor`, `KNeighbors regressor`, `lightGBM regressor`, `Random Forest regressor`, and the `XGBoost regressor` on the train set, tuned the model and predicted on the test set. We observed that the `XGBoost regressor` and the `Random Forest regressor` performed better for this data. using the `XGBoost regressor` as the final model, we obtained an RMSE score of 278339.832 on the test set. The `XGBoost regressor` should that the most important factor affecting the predicted amount is the `type`, `step`, and `newbalanceDest`. \n",
    "\n",
    "Assuming time constraint and computational resources is not a factor, dropping either one of `oldbalanceDest` and `newbalanceDest` and either one of `oldbalanceOrig` and `newbalanceOrig` could lead to improved model performance since either of those features are highly correlated to one another. "
   ]
  }
 ],
 "metadata": {
  "kernelspec": {
   "display_name": "Python 3 (ipykernel)",
   "language": "python",
   "name": "python3"
  },
  "language_info": {
   "codemirror_mode": {
    "name": "ipython",
    "version": 3
   },
   "file_extension": ".py",
   "mimetype": "text/x-python",
   "name": "python",
   "nbconvert_exporter": "python",
   "pygments_lexer": "ipython3",
   "version": "3.8.13"
  }
 },
 "nbformat": 4,
 "nbformat_minor": 5
}
